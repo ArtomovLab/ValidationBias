{
 "cells": [
  {
   "cell_type": "code",
   "execution_count": 1,
   "id": "32e99a3c",
   "metadata": {},
   "outputs": [],
   "source": [
    "from scipy.stats import hypergeom"
   ]
  },
  {
   "cell_type": "markdown",
   "id": "4943bce9",
   "metadata": {},
   "source": [
    "# Example of validation bias detection"
   ]
  },
  {
   "cell_type": "markdown",
   "id": "678f7b6d",
   "metadata": {},
   "source": [
    "- A gene prioritization model was evaluated on a validation set consisting of $50$ genes. \n",
    "\n",
    "\n",
    "- The model's $recall@150$, which measures its ability to identify relevant genes, was found to be $0.6$. In simpler terms, when considering the top $150$ ranked genes, $30$ of them were actually part of the validation set.\n",
    "\n",
    "\n",
    "- The model was tested on a very polygenic disease - cancer. Judging by the meta-analysis of GWAS / RVAS, we can safely assume that there are at least $400$ genes that are causal to the disease.\n",
    "\n",
    "Then, we can use hypergeometric distribution to find whether this performance is attainable without violating the selected completely at random (SCAR) assumption."
   ]
  },
  {
   "cell_type": "code",
   "execution_count": 18,
   "id": "23dc92b2",
   "metadata": {},
   "outputs": [],
   "source": [
    "M = 400 # assumed number of disease genes\n",
    "N = 50 # number of genes in validation set\n",
    "k = 150 # only performance of top-k ranked genes in considered \n",
    "n = 30 # number of disease genes in top-k"
   ]
  },
  {
   "cell_type": "code",
   "execution_count": 22,
   "id": "aaf6753c",
   "metadata": {},
   "outputs": [
    {
     "name": "stdout",
     "output_type": "stream",
     "text": [
      "P-value is 4.77e-04\n"
     ]
    }
   ],
   "source": [
    "print(f'P-value is {1 - hypergeom.cdf(n-1, M, k, N):.2e}')"
   ]
  },
  {
   "cell_type": "markdown",
   "id": "e352d5d6",
   "metadata": {},
   "source": [
    "Thus, we can reject the SCAR assumption if there are at least 400 genes that cause the disease. "
   ]
  },
  {
   "cell_type": "markdown",
   "id": "7fb1bf79",
   "metadata": {},
   "source": [
    "# Identifying the minimum assumption about the number of disease genes"
   ]
  },
  {
   "cell_type": "markdown",
   "id": "5dad3ee1",
   "metadata": {},
   "source": [
    "Previously, we concluded that it is safe to assume that there are at least 400 genes causal to cancer. However, maybe we can relax this assumption even more while still having the statistical power to reject the SCAR assumption. "
   ]
  },
  {
   "cell_type": "code",
   "execution_count": 23,
   "id": "fda07724",
   "metadata": {},
   "outputs": [
    {
     "data": {
      "text/plain": [
       "311"
      ]
     },
     "execution_count": 23,
     "metadata": {},
     "output_type": "execute_result"
    }
   ],
   "source": [
    "def recall_at_k_pval(k, N, n):\n",
    "    for M_lb in range(n, 20000):\n",
    "        if 1 - hypergeom.cdf(n-1, M_lb, k, N) < 0.05:\n",
    "            return M_lb\n",
    "\n",
    "recall_at_k_pval(k, N, n)"
   ]
  },
  {
   "cell_type": "markdown",
   "id": "14720b73",
   "metadata": {},
   "source": [
    "As we see, it was enough to assume that there are 311 genes to detect validation bias."
   ]
  },
  {
   "cell_type": "code",
   "execution_count": 26,
   "id": "e57eafe5",
   "metadata": {},
   "outputs": [
    {
     "name": "stdout",
     "output_type": "stream",
     "text": [
      "P-value for M = 311: 4.80e-02\n"
     ]
    }
   ],
   "source": [
    "print(f'P-value for M = 311: {1 - hypergeom.cdf(n-1, 311, k, N):.2e}')"
   ]
  }
 ],
 "metadata": {
  "kernelspec": {
   "display_name": "Python 3",
   "language": "python",
   "name": "python3"
  },
  "language_info": {
   "codemirror_mode": {
    "name": "ipython",
    "version": 3
   },
   "file_extension": ".py",
   "mimetype": "text/x-python",
   "name": "python",
   "nbconvert_exporter": "python",
   "pygments_lexer": "ipython3",
   "version": "3.9.0"
  }
 },
 "nbformat": 4,
 "nbformat_minor": 5
}
